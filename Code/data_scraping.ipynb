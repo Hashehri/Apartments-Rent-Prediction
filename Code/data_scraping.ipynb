{
 "cells": [
  {
   "cell_type": "markdown",
   "metadata": {},
   "source": [
    "### Data scrapping:\n",
    "**In order to scrape data from Aqar I used selenium framework, since the Aqar website consider as dynamic  website** "
   ]
  },
  {
   "cell_type": "markdown",
   "metadata": {},
   "source": [
    "# Importing packages needed to begin the data scrapping "
   ]
  },
  {
   "cell_type": "code",
   "execution_count": 1,
   "metadata": {},
   "outputs": [],
   "source": [
    "from selenium import webdriver\n",
    "from selenium.webdriver.common.keys import Keys\n",
    "from selenium.webdriver.common.by import By\n",
    "from selenium.webdriver.support.ui import WebDriverWait\n",
    "from selenium.webdriver.support import expected_conditions as EC\n",
    "from selenium.webdriver.support.ui import Select\n",
    "from selenium.common.exceptions import NoSuchElementException\n",
    "import time\n",
    "\n",
    "import pandas as pd\n",
    "import csv"
   ]
  },
  {
   "cell_type": "code",
   "execution_count": 2,
   "metadata": {},
   "outputs": [
    {
     "name": "stderr",
     "output_type": "stream",
     "text": [
      "/var/folders/zj/h4lkddcs4fl9m1km9f9qfffc0000gn/T/ipykernel_7579/523205794.py:2: DeprecationWarning: executable_path has been deprecated, please pass in a Service object\n",
      "  driver = webdriver.Chrome(PATH)\n"
     ]
    }
   ],
   "source": [
    "# define driver path\n",
    "PATH = '/Users/hs/Documents/Anaconda_Python_code/SD_BootCamp/LR_project/chromedriver' \n",
    "driver = webdriver.Chrome(PATH)\n",
    "driver.get('https://sa.aqar.fm/%D8%B4%D9%82%D9%82-%D9%84%D9%84%D8%A5%D9%8A%D8%AC%D8%A7%D8%B1/%D8%A7%D9%84%D8%B1%D9%8A%D8%A7%D8%B6/%D8%BA%D8%B1%D8%A8-%D8%A7%D9%84%D8%B1%D9%8A%D8%A7%D8%B6?rent_type=3')"
   ]
  },
  {
   "cell_type": "code",
   "execution_count": 3,
   "metadata": {},
   "outputs": [],
   "source": [
    "\n",
    "### getting items number in the page\n",
    "def get_items_number():\n",
    "    \"\"\"\"\"\n",
    "    this function will return a list of apartments number in the driver current page,\n",
    "    in order to define the iteration in each page \n",
    "    \"\"\"\"\"\n",
    "    driver.current_url\n",
    "    # time.sleep(1)\n",
    "    page_items = driver.find_elements_by_class_name('listItem')\n",
    "    count = 0 \n",
    "    temp_count_list = []\n",
    "    for item in page_items:\n",
    "        temp_count_list.append(item.text.strip())\n",
    "        count = len(temp_count_list)\n",
    "    return count\n"
   ]
  },
  {
   "cell_type": "code",
   "execution_count": 4,
   "metadata": {},
   "outputs": [],
   "source": [
    "\n",
    "# getting apartments page\n",
    "def get_apartments(i):\n",
    "    \"\"\"\"\"\n",
    "     in this funcation you will be able to click apartment details\n",
    "    \"\"\"\"\"\n",
    "    driver.find_element_by_xpath(f\"/html[1]/body[1]/div[1]/div[1]/main[1]/div[1]/div[1]/div[{i}]/div[1]/div[1]/div[3]/div[1]/h4[1]/a[1]\" ).click()\n"
   ]
  },
  {
   "cell_type": "code",
   "execution_count": 5,
   "metadata": {},
   "outputs": [],
   "source": [
    "# define an empty list to stor the apartment content/information\n",
    "templist = []"
   ]
  },
  {
   "cell_type": "code",
   "execution_count": 6,
   "metadata": {},
   "outputs": [],
   "source": [
    "\n",
    "### getting the apartments details\n",
    "\n",
    "def get_de ():\n",
    "    \"\"\"\"\"\n",
    "     this funcation gather all data about apartments \n",
    "    \"\"\"\"\"\n",
    "    furnished = 'nan'\n",
    "    kitechen  = 'nan'\n",
    "    garage = 'nan'\n",
    "    elevator = 'nan'\n",
    "    ac = 'nan'\n",
    "\n",
    "    main = driver.find_element_by_id('page-wrap')\n",
    "\n",
    "    more_de = main.find_element_by_class_name('dc-extraDetailsTable') \n",
    "\n",
    "    md = more_de.find_elements_by_tag_name('td')\n",
    "\n",
    "    mm = []\n",
    "\n",
    "    for index, m in enumerate(md):\n",
    "        \n",
    "        mm.append(m.text.strip())\n",
    "\n",
    "    for more_d in mm:\n",
    "        if more_d == 'مؤثثة' :\n",
    "            furnished = 'yes'\n",
    "        elif more_d == 'مطبخ' :\n",
    "            kitechen = 'yes'\n",
    "        elif more_d == 'مدخل سيارة':\n",
    "            garage = 'yes'\n",
    "        elif more_d == 'مصعد':\n",
    "            elevator = 'yes'\n",
    "        elif more_d == 'مكيفات':\n",
    "            ac = 'yes'\n",
    "        else:\n",
    "            break\n",
    "            print('I am in the else block and there is nothing to scrape !!! ')\n",
    "                 \n",
    "    try:\n",
    "        title = driver.find_element_by_class_name('listingPageTitle').text.strip()\n",
    "    except:\n",
    "        title = 'nan'\n",
    "\n",
    "    try:\n",
    "        price_per_year = driver.find_element_by_xpath('/html[1]/body[1]/div[1]/div[1]/main[1]/div[1]/div[1]/div[6]/span[1]/span[2]').text.strip()\n",
    "    except:\n",
    "        price_per_year = 'nan'\n",
    "\n",
    "    try:\n",
    "        category = driver.find_element_by_xpath('/html[1]/body[1]/div[1]/div[1]/main[1]/div[1]/div[1]/div[7]/table[1]/tbody[1]/tr[1]/td[1]').text.strip()\n",
    "    except:\n",
    "        category = 'nan'\n",
    "\n",
    "    try:\n",
    "        bedrooms = driver.find_element_by_xpath('/html[1]/body[1]/div[1]/div[1]/main[1]/div[1]/div[1]/div[7]/table[1]/tbody[1]/tr[2]/td[1]').text.strip()\n",
    "    except:\n",
    "        bedrooms = 'nan'\n",
    "\n",
    "    try:\n",
    "        livingrooms = driver.find_element_by_xpath('/html[1]/body[1]/div[1]/div[1]/main[1]/div[1]/div[1]/div[7]/table[1]/tbody[1]/tr[3]/td[1]').text.strip()\n",
    "    except:\n",
    "        livingrooms = 'nan'\n",
    "    try:\n",
    "        bathrooms = driver.find_element_by_xpath('/html[1]/body[1]/div[1]/div[1]/main[1]/div[1]/div[1]/div[7]/table[1]/tbody[1]/tr[4]/td[1]').text.strip()\n",
    "    except:\n",
    "        bathrooms = 'nan'\n",
    "\n",
    "    try:\n",
    "        floor_number = driver.find_element_by_xpath('/html[1]/body[1]/div[1]/div[1]/main[1]/div[1]/div[1]/div[7]/table[1]/tbody[1]/tr[5]/td[1]').text.strip()\n",
    "    except:\n",
    "        floor_number = 'nan'\n",
    "\n",
    "    try:\n",
    "        property_age = driver.find_element_by_xpath('/html[1]/body[1]/div[1]/div[1]/main[1]/div[1]/div[1]/div[7]/table[1]/tbody[1]/tr[6]/td[1]').text.strip()\n",
    "    except:\n",
    "        property_age = 'nan'\n",
    "\n",
    "    # store information in dictionary, in order to store it in the list         \n",
    "    Table_dict={'District': title,\n",
    "                'Category': category,\n",
    "                'Bedrooms': bedrooms,\n",
    "                'Livingrooms': livingrooms,\n",
    "                'Bathrooms': bathrooms,\n",
    "                'Floor_number': floor_number,\n",
    "                'Property_age': property_age,\n",
    "                'Furnished': furnished,\n",
    "                'Kitechen': kitechen,\n",
    "                'Garage' : garage,\n",
    "                'Elevator': elevator,\n",
    "                'AC' : ac,\n",
    "                'Price': price_per_year}\n",
    "\n",
    "    templist.append(Table_dict) \n",
    "    "
   ]
  },
  {
   "cell_type": "code",
   "execution_count": 7,
   "metadata": {},
   "outputs": [],
   "source": [
    "\n",
    "### Move to next page\n",
    "def get_next_page():\n",
    "\n",
    "    \"\"\"\"\"\n",
    "     this funcation you will be able to click on next page button\n",
    "    \"\"\"\"\"\n",
    "    driver.implicitly_wait(10)\n",
    "    driver.current_url\n",
    "    \n",
    "    try:\n",
    "        driver.find_element_by_id(\"next-page\").click()\n",
    "    except:\n",
    "        print(\"you are in second except block, in the get_next_page() !!!\")\n",
    "      "
   ]
  },
  {
   "cell_type": "markdown",
   "metadata": {},
   "source": [
    "### Automation scraping\n",
    "**after defined the helper functions above, I will automate these function to call each other,\n",
    "in order scrape all apartments details**  "
   ]
  },
  {
   "cell_type": "code",
   "execution_count": null,
   "metadata": {},
   "outputs": [],
   "source": [
    "\n",
    "temp = 1\n",
    "# nested while loop to scrape all data\n",
    "# first while loop will loop through pages \n",
    "while(temp):\n",
    "\n",
    "    # define constent counter seine the xpath pattern start from 4, \n",
    "    # in order to pass it to get_apartments() \n",
    "    COUNTERS = 4\n",
    "    #second while loop will loop through all the apartment in the current page\n",
    "    while(COUNTERS):\n",
    "        try:\n",
    "            get_apartments(COUNTERS)\n",
    "            driver.implicitly_wait(5)\n",
    "            get_de()\n",
    "            \n",
    "            driver.execute_script(\"window.history.go(-1)\")\n",
    "            driver.back()\n",
    "            COUNTERS += 1\n",
    "            \n",
    "            driver.implicitly_wait(5)\n",
    "           \n",
    "            \n",
    "        except NoSuchElementException:\n",
    "            print('I am in the exception of for loop iteration')\n",
    "            break\n",
    "    \n",
    "    try:\n",
    "        driver.implicitly_wait(3)\n",
    "        get_next_page()\n",
    "        driver.implicitly_wait(3)\n",
    "    except:\n",
    "        print('I am in the exception of while loop iteration')\n",
    "        break\n",
    "        \n",
    "    temp += 1\n"
   ]
  },
  {
   "cell_type": "code",
   "execution_count": 9,
   "metadata": {},
   "outputs": [
    {
     "data": {
      "text/plain": [
       "(361, 13)"
      ]
     },
     "execution_count": 9,
     "metadata": {},
     "output_type": "execute_result"
    }
   ],
   "source": [
    "# convert the list that has all apartments data into DataFrame\n",
    "df = pd.DataFrame(templist)\n",
    "df.shape"
   ]
  },
  {
   "cell_type": "code",
   "execution_count": 10,
   "metadata": {},
   "outputs": [],
   "source": [
    "#Finall, save the data in CSV fromate \n",
    "df.to_csv('Aqar_dataset.csv',index=False ,encoding='utf-8-sig')"
   ]
  }
 ],
 "metadata": {
  "interpreter": {
   "hash": "1d21095af2f381a2726972fdf967dbee963a9e34fecfb68cb24d572b91334a2a"
  },
  "kernelspec": {
   "display_name": "Python 3.9.2 64-bit ('.venv': venv)",
   "language": "python",
   "name": "python3"
  },
  "language_info": {
   "codemirror_mode": {
    "name": "ipython",
    "version": 3
   },
   "file_extension": ".py",
   "mimetype": "text/x-python",
   "name": "python",
   "nbconvert_exporter": "python",
   "pygments_lexer": "ipython3",
   "version": "3.9.2"
  },
  "orig_nbformat": 4
 },
 "nbformat": 4,
 "nbformat_minor": 2
}
